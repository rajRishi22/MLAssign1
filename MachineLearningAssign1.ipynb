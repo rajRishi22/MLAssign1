{
 "cells": [
  {
   "cell_type": "code",
   "execution_count": 1,
   "id": "fd838fc7-d19c-41c0-8f23-8eefebfd0538",
   "metadata": {},
   "outputs": [],
   "source": [
    "# 1.Ans\n",
    "# 1.AI are the smart applications that can perform its own task without any human intervention.Ex- Self Driving Cars,Robots etc.\n",
    "# 2.ML provides stats tools to analyze visualize and make productive models.\n",
    "# 3.DL mimics the human brain to do work like image recognition,chatbots etc.\n"
   ]
  },
  {
   "cell_type": "code",
   "execution_count": 2,
   "id": "3ad43dc3-6b4a-4364-9c9f-f4d31c37d956",
   "metadata": {},
   "outputs": [],
   "source": [
    "# 2.Ans \n",
    "# Supervised Learining is a type of Machine Learning in which we train AI models using labelled data.\n"
   ]
  },
  {
   "cell_type": "code",
   "execution_count": 3,
   "id": "b9b0888e-702e-4256-9ade-53cc6a14dab3",
   "metadata": {},
   "outputs": [],
   "source": [
    "# 3.Ans\n",
    "# Unsupervised Learning is a type of Machine Learning in which we train models to Categorize data on the basis of their characteristics."
   ]
  },
  {
   "cell_type": "code",
   "execution_count": 4,
   "id": "f3ca5dbe-a436-478e-8de0-eed9a4fcaa2b",
   "metadata": {},
   "outputs": [],
   "source": [
    "# AI is a smart application that is able to perform some tasks without any human intervention,whereas ML is a subset of it which is used to make predective models and all, DL is a part of ML which mimics the human brain. Data Science(DS) is a combination of all of these domains."
   ]
  },
  {
   "cell_type": "code",
   "execution_count": 5,
   "id": "c567c023-e472-4945-9ffe-25bf4a070203",
   "metadata": {},
   "outputs": [],
   "source": [
    "# 5.Ans\n",
    "# Supervised Learining is a type of Machine Learning in which we train AI models using labelled data.\n",
    "# Unsupervised Learning is a type of Machine Learning in which we train models to Categorize data on the basis of their characteristics.\n",
    "# SemiSupervised Learning is a combination of the above two in which we train models using labelled data along with categorizing data into clusters.\n"
   ]
  },
  {
   "cell_type": "code",
   "execution_count": 6,
   "id": "319dc031-690c-49ac-a3bb-4b54914d89f2",
   "metadata": {},
   "outputs": [],
   "source": [
    "# Data is splited into 3 Categories for making machine learinig models:-\n",
    "# 1.Train Data: In this Category data is used to train AI models.\n",
    "# 2.Validation Data: This type of data is used to improve the accuracy of the AI models by making small changes in the parameters.\n",
    "# 3.Test Data: This type of data is used to test the efficiency of AI model ,It must be hidden from Al model.\n"
   ]
  },
  {
   "cell_type": "code",
   "execution_count": 7,
   "id": "58dfbcd0-3a9e-4b07-88ad-00ac3e25cdec",
   "metadata": {},
   "outputs": [],
   "source": [
    "# Unsupervised Learning is used to divide data into multiple categories based on some characteristics.The odd one or anamolous data will be filtered out alone in such a case , thus it can be used in anamoly detection."
   ]
  },
  {
   "cell_type": "code",
   "execution_count": 8,
   "id": "08eafa17-f901-4fe0-9651-1b5d46af1e1a",
   "metadata": {},
   "outputs": [],
   "source": [
    "# Supervised Learning- Linear Regression , Non-linear Regression.\n",
    "# Unsupervised Learning - K means clustering, anamoly detection."
   ]
  },
  {
   "cell_type": "code",
   "execution_count": null,
   "id": "3824d535-569e-454a-b8b0-0fda2e291d22",
   "metadata": {},
   "outputs": [],
   "source": []
  }
 ],
 "metadata": {
  "kernelspec": {
   "display_name": "Python 3 (ipykernel)",
   "language": "python",
   "name": "python3"
  },
  "language_info": {
   "codemirror_mode": {
    "name": "ipython",
    "version": 3
   },
   "file_extension": ".py",
   "mimetype": "text/x-python",
   "name": "python",
   "nbconvert_exporter": "python",
   "pygments_lexer": "ipython3",
   "version": "3.10.8"
  }
 },
 "nbformat": 4,
 "nbformat_minor": 5
}
